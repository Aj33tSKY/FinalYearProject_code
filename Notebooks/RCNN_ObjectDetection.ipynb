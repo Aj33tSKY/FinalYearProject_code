{
 "cells": [
  {
   "cell_type": "code",
   "execution_count": 2,
   "id": "06e12011-2896-4665-b44a-6220ac8a91e3",
   "metadata": {},
   "outputs": [],
   "source": [
    "import cv2\n",
    "import numpy as np\n",
    "import os"
   ]
  },
  {
   "cell_type": "code",
   "execution_count": 125,
   "id": "9d41a7ec-3b2a-4a65-ad9d-eb4ddf5ca6a0",
   "metadata": {},
   "outputs": [
    {
     "name": "stderr",
     "output_type": "stream",
     "text": [
      "<>:3: SyntaxWarning: invalid escape sequence '\\D'\n",
      "<>:3: SyntaxWarning: invalid escape sequence '\\D'\n",
      "C:\\Users\\ajeet\\AppData\\Local\\Temp\\ipykernel_3952\\3601651216.py:3: SyntaxWarning: invalid escape sequence '\\D'\n",
      "  before_image_dir = \"Test_Dataset\\Depth_Blender\\Before\"\n"
     ]
    }
   ],
   "source": [
    "image_dir = \"Test_Dataset/Unstable/Before\"\n",
    "mask_dir = \"Test_Dataset/UnstableMotion\"\n",
    "before_image_dir = \"Test_Dataset\\Depth_Blender\\Before\"\n",
    "\n",
    "annotations = {}\n",
    "\n",
    "for img_filename in os.listdir(image_dir):\n",
    "    mask_filename = img_filename.replace(\"before\", \"after\")  # Ensure correct mapping\n",
    "    mask_path = os.path.join(mask_dir, mask_filename)\n",
    "    \n",
    "    if os.path.exists(mask_path):\n",
    "        boxes = extract_bounding_boxes(mask_path)\n",
    "        if boxes:\n",
    "            annotations[img_filename] = boxes\n"
   ]
  },
  {
   "cell_type": "code",
   "execution_count": 2,
   "id": "aebceb78-c921-41a7-aee6-ed7f8bfb872a",
   "metadata": {},
   "outputs": [
    {
     "ename": "NameError",
     "evalue": "name 'os' is not defined",
     "output_type": "error",
     "traceback": [
      "\u001b[1;31m---------------------------------------------------------------------------\u001b[0m",
      "\u001b[1;31mNameError\u001b[0m                                 Traceback (most recent call last)",
      "Cell \u001b[1;32mIn[2], line 52\u001b[0m\n\u001b[0;32m     48\u001b[0m before_image_dir \u001b[38;5;241m=\u001b[39m \u001b[38;5;124m\"\u001b[39m\u001b[38;5;124mTest_Dataset/Depth_Blender/Before\u001b[39m\u001b[38;5;124m\"\u001b[39m\n\u001b[0;32m     50\u001b[0m annotations \u001b[38;5;241m=\u001b[39m {}\n\u001b[1;32m---> 52\u001b[0m \u001b[38;5;28;01mfor\u001b[39;00m img_filename \u001b[38;5;129;01min\u001b[39;00m \u001b[43mos\u001b[49m\u001b[38;5;241m.\u001b[39mlistdir(image_dir):\n\u001b[0;32m     53\u001b[0m     mask_filename \u001b[38;5;241m=\u001b[39m img_filename\u001b[38;5;241m.\u001b[39mreplace(\u001b[38;5;124m\"\u001b[39m\u001b[38;5;124mbefore\u001b[39m\u001b[38;5;124m\"\u001b[39m, \u001b[38;5;124m\"\u001b[39m\u001b[38;5;124mafter\u001b[39m\u001b[38;5;124m\"\u001b[39m)  \u001b[38;5;66;03m# Ensure correct mapping\u001b[39;00m\n\u001b[0;32m     54\u001b[0m     mask_path \u001b[38;5;241m=\u001b[39m os\u001b[38;5;241m.\u001b[39mpath\u001b[38;5;241m.\u001b[39mjoin(mask_dir, mask_filename)\n",
      "\u001b[1;31mNameError\u001b[0m: name 'os' is not defined"
     ]
    }
   ],
   "source": [
    "import cv2\n",
    "import matplotlib.pyplot as plt\n",
    "\n",
    "def extract_bounding_boxes(mask_path):\n",
    "  \n",
    "    mask = cv2.imread(mask_path, cv2.IMREAD_GRAYSCALE)\n",
    "    _, thresh = cv2.threshold(mask, 127, 255, cv2.THRESH_BINARY)\n",
    "\n",
    "    contours, _ = cv2.findContours(thresh, cv2.RETR_EXTERNAL, cv2.CHAIN_APPROX_SIMPLE)\n",
    "\n",
    "    bounding_boxes = []\n",
    "    for cnt in contours:\n",
    "        x, y, w, h = cv2.boundingRect(cnt)\n",
    "        if w * h > 3000: \n",
    "            bounding_boxes.append([x, y, x + w, y + h])\n",
    "\n",
    "    return bounding_boxes\n",
    "\n",
    "def visualize_one_image(image_path, mask_path):\n",
    "   \n",
    "    boxes = extract_bounding_boxes(mask_path)\n",
    "    \n",
    "    if boxes:\n",
    " \n",
    "        img = cv2.imread(image_path)\n",
    "        img = cv2.cvtColor(img, cv2.COLOR_BGR2RGB)  # Convert to RGB for matplotlib\n",
    "        \n",
    "        for box in boxes:\n",
    "            x1, y1, x2, y2 = box\n",
    "            cv2.rectangle(img, (x1, y1), (x2, y2), (255, 0, 0), 2)  # Red color for boxes\n",
    "        \n",
    "\n",
    "        plt.figure(figsize=(8, 8))\n",
    "        plt.imshow(img)\n",
    "        plt.axis('off') \n",
    "        plt.show()\n",
    "    else:\n",
    "        print(\"No bounding boxes found in the mask.\")\n",
    "\n",
    "image_dir = \"Test_Dataset/Unstable/Before\"\n",
    "mask_dir = \"Test_Dataset/UnstableMotion\"\n",
    "before_image_dir = \"Test_Dataset/Depth_Blender/Before\"\n",
    "\n",
    "annotations = {}\n",
    "\n",
    "for img_filename in os.listdir(image_dir):\n",
    "    mask_filename = img_filename.replace(\"before\", \"after\")  \n",
    "    mask_path = os.path.join(mask_dir, mask_filename)\n",
    "    \n",
    "    if os.path.exists(mask_path):\n",
    "        boxes = extract_bounding_boxes(mask_path)\n",
    "        if boxes: \n",
    "            annotations[img_filename] = boxes\n",
    "\n",
    "\n",
    "image_path = \"Test_Dataset/Depth_Blender/Before/render_782_before.png\"\n",
    "mask_path = \"Test_Dataset/UnstableMotion/render_782_after.png\" \n",
    "\n",
    "visualize_one_image(image_path, mask_path)\n"
   ]
  },
  {
   "cell_type": "code",
   "execution_count": 233,
   "id": "1c603128-bc32-4a31-9543-69a78bc75249",
   "metadata": {},
   "outputs": [],
   "source": [
    "import torch\n",
    "import torchvision.transforms as T\n",
    "from torch.utils.data import Dataset\n",
    "from PIL import Image\n",
    "\n",
    "class UnstableDataset(Dataset):\n",
    "    def __init__(self, before_image_dir, annotations):\n",
    "        self.image_dir = before_image_dir\n",
    "        self.annotations = annotations \n",
    "        self.image_files = list(annotations.keys())\n",
    "        self.transform = T.ToTensor()\n",
    "\n",
    "    def __len__(self):\n",
    "        return len(self.image_files)\n",
    "\n",
    "    def __getitem__(self, idx):\n",
    "        img_path = os.path.join(self.image_dir, self.image_files[idx])\n",
    "        img = Image.open(img_path).convert(\"RGB\")\n",
    "        img = self.transform(img)\n",
    "\n",
    "        boxes = torch.tensor(self.annotations[self.image_files[idx]], dtype=torch.float32)\n",
    "        labels = torch.ones((len(boxes),), dtype=torch.int64) \n",
    "\n",
    "        target = {\"boxes\": boxes, \"labels\": labels}\n",
    "        return img, target\n"
   ]
  },
  {
   "cell_type": "code",
   "execution_count": 235,
   "id": "a61d807e-8e3b-49a1-b74a-bf68efda886a",
   "metadata": {},
   "outputs": [
    {
     "name": "stderr",
     "output_type": "stream",
     "text": [
      "C:\\Users\\ajeet\\AppData\\Local\\Temp\\ipykernel_3952\\3908649062.py:6: FutureWarning: `torch.cuda.amp.GradScaler(args...)` is deprecated. Please use `torch.amp.GradScaler('cuda', args...)` instead.\n",
      "  scaler = GradScaler()\n",
      "C:\\Users\\ajeet\\AppData\\Local\\Temp\\ipykernel_3952\\3908649062.py:33: FutureWarning: `torch.cuda.amp.autocast(args...)` is deprecated. Please use `torch.amp.autocast('cuda', args...)` instead.\n",
      "  with autocast():  # Enable mixed precision\n"
     ]
    },
    {
     "name": "stdout",
     "output_type": "stream",
     "text": [
      "Epoch 1, Loss: 43.1614\n",
      "Epoch 2, Loss: 31.1777\n",
      "Epoch 3, Loss: 27.7790\n",
      "Epoch 4, Loss: 24.6608\n",
      "Epoch 5, Loss: 23.1805\n",
      "Epoch 6, Loss: 21.4764\n",
      "Epoch 7, Loss: 19.9797\n",
      "Epoch 8, Loss: 17.6420\n",
      "Epoch 9, Loss: 17.3990\n",
      "Epoch 10, Loss: 16.2924\n",
      "Epoch 11, Loss: 14.1047\n",
      "Epoch 12, Loss: 14.0245\n",
      "Epoch 13, Loss: 12.5179\n",
      "Epoch 14, Loss: 13.3861\n",
      "Epoch 15, Loss: 12.0060\n"
     ]
    }
   ],
   "source": [
    "from torch.utils.data import DataLoader\n",
    "import torchvision\n",
    "from torchvision.models.detection.faster_rcnn import FastRCNNPredictor\n",
    "from torch.cuda.amp import autocast, GradScaler\n",
    "\n",
    "scaler = GradScaler()\n",
    "\n",
    "dataset = UnstableDataset(before_image_dir, annotations)\n",
    "train_dl = DataLoader(dataset, batch_size=2, shuffle=True, collate_fn=lambda batch: tuple(zip(*batch)))\n",
    "\n",
    "model = torchvision.models.detection.fasterrcnn_resnet50_fpn(pretrained=True)\n",
    "num_classes = 2 \n",
    "in_features = model.roi_heads.box_predictor.cls_score.in_features\n",
    "model.roi_heads.box_predictor = FastRCNNPredictor(in_features, num_classes)\n",
    "\n",
    "device = torch.device(\"cuda\" if torch.cuda.is_available() else \"cpu\")\n",
    "model.to(device)\n",
    "optimizer = torch.optim.SGD(model.parameters(), lr=0.005, momentum=0.9, weight_decay=0.0005)\n",
    "\n",
    "num_epochs = 15\n",
    "\n",
    "model.train()\n",
    "for epoch in range(num_epochs):\n",
    "    total_loss = 0\n",
    "    for images, targets in train_dl:\n",
    "        images = [img.to(device) for img in images]\n",
    "        targets = [{k: v.to(device) for k, v in t.items()} for t in targets]\n",
    "\n",
    "        optimizer.zero_grad()\n",
    "        with autocast():  # Enable mixed precision\n",
    "            loss_dict = model(images, targets)\n",
    "            loss = sum(loss for loss in loss_dict.values())\n",
    "\n",
    "        scaler.scale(loss).backward()\n",
    "        scaler.step(optimizer)\n",
    "        scaler.update()\n",
    "\n",
    "        total_loss += loss.item()\n",
    "    \n",
    "    print(f\"Epoch {epoch+1}, Loss: {total_loss:.4f}\")\n",
    "\n",
    "torch.save(model.state_dict(), \"faster_rcnn_unstable.pth\")\n"
   ]
  },
  {
   "cell_type": "code",
   "execution_count": 73,
   "id": "7fd94a85-8654-4058-9ce6-6c9e60705bf8",
   "metadata": {},
   "outputs": [
    {
     "name": "stderr",
     "output_type": "stream",
     "text": [
      "C:\\Users\\ajeet\\AppData\\Local\\Temp\\ipykernel_34048\\3605931353.py:19: FutureWarning: You are using `torch.load` with `weights_only=False` (the current default value), which uses the default pickle module implicitly. It is possible to construct malicious pickle data which will execute arbitrary code during unpickling (See https://github.com/pytorch/pytorch/blob/main/SECURITY.md#untrusted-models for more details). In a future release, the default value for `weights_only` will be flipped to `True`. This limits the functions that could be executed during unpickling. Arbitrary objects will no longer be allowed to be loaded via this mode unless they are explicitly allowlisted by the user via `torch.serialization.add_safe_globals`. We recommend you start setting `weights_only=True` for any use case where you don't have full control of the loaded file. Please open an issue on GitHub for any issues related to this experimental feature.\n",
      "  model.load_state_dict(torch.load(\"saved_models/Faster_RCNN/TEST2_faster_rcnn_unstable.pth\", map_location=device))\n"
     ]
    },
    {
     "data": {
      "image/png": "[encoded data removed]",
      "text/plain": [
       "<Figure size 640x480 with 1 Axes>"
      ]
     },
     "metadata": {},
     "output_type": "display_data"
    }
   ],
   "source": [
    "import torchvision\n",
    "import torch\n",
    "import matplotlib.pyplot as plt\n",
    "import cv2\n",
    "from PIL import Image\n",
    "import torchvision.transforms as T\n",
    "\n",
    "device = torch.device(\"cuda\" if torch.cuda.is_available() else \"cpu\")\n",
    "\n",
    "model = torchvision.models.detection.fasterrcnn_resnet50_fpn(pretrained=False)\n",
    "\n",
    "num_classes = 2\n",
    "in_features = model.roi_heads.box_predictor.cls_score.in_features\n",
    "model.roi_heads.box_predictor = torchvision.models.detection.faster_rcnn.FastRCNNPredictor(in_features, num_classes)\n",
    "\n",
    "model.load_state_dict(torch.load(\"saved_models/Faster_RCNN/TEST2_faster_rcnn_unstable.pth\", map_location=device))\n",
    "model.to(device)\n",
    "model.eval()\n",
    "\n",
    "def predict_and_visualize_with_nms(model, image_path, threshold, iou_threshold=0.3):\n",
    "    \n",
    "    model.eval()\n",
    "\n",
    "    img = Image.open(image_path).convert(\"RGB\")\n",
    "    img_tensor = T.ToTensor()(img).unsqueeze(0).to(device)\n",
    "\n",
    "    with torch.no_grad():\n",
    "        predictions = model(img_tensor)\n",
    "\n",
    "    pred_boxes = torch.tensor(predictions[0][\"boxes\"].cpu().numpy(), dtype=torch.float32)\n",
    "    pred_scores = torch.tensor(predictions[0][\"scores\"].cpu().numpy(), dtype=torch.float32)\n",
    "\n",
    "    keep = torchvision.ops.nms(pred_boxes, pred_scores, iou_threshold)\n",
    "\n",
    "\n",
    "    pred_boxes = pred_boxes[keep].numpy()\n",
    "    pred_scores = pred_scores[keep].numpy()\n",
    "\n",
    "    img_cv = cv2.imread(image_path)\n",
    "    img_cv = cv2.cvtColor(img_cv, cv2.COLOR_BGR2RGB)\n",
    "\n",
    "    for box, score in zip(pred_boxes, pred_scores):\n",
    "        if score > threshold:\n",
    "            x1, y1, x2, y2 = map(int, box)\n",
    "            cv2.rectangle(img_cv, (x1, y1), (x2, y2), (255, 0, 0), 2)\n",
    "\n",
    "    plt.imshow(img_cv)\n",
    "    plt.axis(\"off\")\n",
    "    plt.show()\n",
    "\n",
    "predict_and_visualize_with_nms(model, \"DEPTH_COMBINED DATASET2/test/Unstable/6B-3D-Non-Rot_SPLIT_render_409_persp_left.png\", threshold=0.6, iou_threshold=0.3)\n"
   ]
  },
  {
   "cell_type": "code",
   "execution_count": null,
   "id": "b29e21d3-d1dc-47bb-ac6f-cbf445ceaa45",
   "metadata": {},
   "outputs": [],
   "source": []
  }
 ],
 "metadata": {
  "kernelspec": {
   "display_name": "Python [conda env:FPY_env]",
   "language": "python",
   "name": "conda-env-FPY_env-py"
  },
  "language_info": {
   "codemirror_mode": {
    "name": "ipython",
    "version": 3
   },
   "file_extension": ".py",
   "mimetype": "text/x-python",
   "name": "python",
   "nbconvert_exporter": "python",
   "pygments_lexer": "ipython3",
   "version": "3.12.3"
  }
 },
 "nbformat": 4,
 "nbformat_minor": 5
}
