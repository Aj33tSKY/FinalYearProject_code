{
 "cells": [
  {
   "cell_type": "code",
   "execution_count": 2,
   "id": "89fb636e-96e1-49ac-b1cc-799a648a6533",
   "metadata": {},
   "outputs": [
    {
     "name": "stderr",
     "output_type": "stream",
     "text": [
      "C:\\tools\\Anaconda\\envs\\FPY_env\\Lib\\site-packages\\tqdm\\auto.py:21: TqdmWarning: IProgress not found. Please update jupyter and ipywidgets. See https://ipywidgets.readthedocs.io/en/stable/user_install.html\n",
      "  from .autonotebook import tqdm as notebook_tqdm\n",
      "Using a slow image processor as `use_fast` is unset and a slow processor was saved with this model. `use_fast=True` will be the default behavior in v4.52, even if the model was saved with a slow processor. This will result in minor differences in outputs. You'll still be able to use a slow processor with `use_fast=False`.\n",
      "Device set to use cuda:0\n",
      "Processing Stable:   5%|███                                                           | 10/200 [00:00<00:10, 17.58it/s]You seem to be using the pipelines sequentially on GPU. In order to maximize efficiency please use a dataset\n",
      "Processing Stable: 100%|█████████████████████████████████████████████████████████████| 200/200 [00:08<00:00, 22.65it/s]\n",
      "Processing Unstable: 100%|███████████████████████████████████████████████████████████| 200/200 [00:08<00:00, 22.85it/s]"
     ]
    },
    {
     "name": "stdout",
     "output_type": "stream",
     "text": [
      "\n",
      "Depth estimation completed for all images.\n"
     ]
    },
    {
     "name": "stderr",
     "output_type": "stream",
     "text": [
      "\n"
     ]
    }
   ],
   "source": [
    "import os\n",
    "from transformers import pipeline\n",
    "from PIL import Image\n",
    "from tqdm import tqdm\n",
    "\n",
    "pipe = pipeline(task=\"depth-estimation\", model=\"depth-anything/Depth-Anything-V2-Small-hf\")\n",
    "\n",
    "# Define directories\n",
    "input_dir = \"MAIN_DS/4B-3D-Non/test\"\n",
    "output_dir = \"TEST_Depth/4B-3D-Non\"\n",
    "\n",
    "os.makedirs(output_dir, exist_ok=True)\n",
    "\n",
    "def process_folder(class_folder):\n",
    "    input_class_dir = os.path.join(input_dir, class_folder)\n",
    "    output_class_dir = os.path.join(output_dir, class_folder)\n",
    "    \n",
    "    os.makedirs(output_class_dir, exist_ok=True)\n",
    "\n",
    "    \n",
    "    image_files = [f for f in os.listdir(input_class_dir) \n",
    "                  if f.lower().endswith((\".png\", \".jpg\", \".jpeg\"))]\n",
    "    \n",
    "\n",
    "    for filename in tqdm(image_files, desc=f\"Processing {class_folder}\"):\n",
    "        input_path = os.path.join(input_class_dir, filename)\n",
    "        output_path = os.path.join(output_class_dir, f\"depth_{filename}\")\n",
    "\n",
    "        try:  \n",
    "            image = Image.open(input_path)\n",
    "            depth_map = pipe(image)[\"depth\"]\n",
    "            depth_map.save(output_path)\n",
    "            \n",
    "        except Exception as e:\n",
    "            print(f\"\\nError processing {filename}: {e}\")\n",
    "\n",
    "\n",
    "for class_folder in [\"Stable\", \"Unstable\"]:\n",
    "    if os.path.exists(os.path.join(input_dir, class_folder)):\n",
    "        process_folder(class_folder)\n",
    "    else:\n",
    "        print(f\"Warning: Folder {class_folder} not found in {input_dir}\")\n",
    "\n",
    "print(\"\\nDepth estimation completed for all images.\")"
   ]
  },
  {
   "cell_type": "code",
   "execution_count": null,
   "id": "60566037-4b56-43bf-bebf-a24c1ee123e0",
   "metadata": {},
   "outputs": [],
   "source": []
  }
 ],
 "metadata": {
  "kernelspec": {
   "display_name": "Python [conda env:FPY_env]",
   "language": "python",
   "name": "conda-env-FPY_env-py"
  },
  "language_info": {
   "codemirror_mode": {
    "name": "ipython",
    "version": 3
   },
   "file_extension": ".py",
   "mimetype": "text/x-python",
   "name": "python",
   "nbconvert_exporter": "python",
   "pygments_lexer": "ipython3",
   "version": "3.12.3"
  }
 },
 "nbformat": 4,
 "nbformat_minor": 5
}
