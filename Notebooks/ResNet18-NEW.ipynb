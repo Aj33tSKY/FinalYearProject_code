{
 "cells": [
  {
   "cell_type": "code",
   "execution_count": 2,
   "id": "002c89f8-8f7b-4c3f-9109-7e7363ec352f",
   "metadata": {},
   "outputs": [
    {
     "name": "stdout",
     "output_type": "stream",
     "text": [
      "testing\n"
     ]
    }
   ],
   "source": [
    "import torch\n",
    "import torch.nn as nn\n",
    "import torch.optim as optim\n",
    "from torchvision.models import resnet18, ResNet18_Weights\n",
    "from torchvision import datasets, transforms\n",
    "from torch.utils.data import random_split, DataLoader\n",
    "print (\"testing\")"
   ]
  },
  {
   "cell_type": "code",
   "execution_count": 4,
   "id": "3ef5e1fc-ab54-4ae6-ada9-67aeeb948bdc",
   "metadata": {},
   "outputs": [],
   "source": [
    "transform = transforms.Compose([\n",
    "    transforms.RandomHorizontalFlip(),\n",
    "    transforms.RandomRotation(10),\n",
    "    transforms.Resize((224, 224)),\n",
    "    transforms.ToTensor(),\n",
    "    transforms.Normalize(mean=[0.485, 0.456, 0.406], std=[0.229, 0.224, 0.225])\n",
    "])"
   ]
  },
  {
   "cell_type": "code",
   "execution_count": 6,
   "id": "3e022ce9-c27a-4466-9db7-e3bc4f59b523",
   "metadata": {},
   "outputs": [
    {
     "name": "stdout",
     "output_type": "stream",
     "text": [
      "Training set size: 1200 images\n",
      "Validation set size: 400 images\n",
      "Testing set size: 400 images\n"
     ]
    }
   ],
   "source": [
    "train = datasets.ImageFolder(root='10B-3D-Uni/train', transform=transform)\n",
    "val = datasets.ImageFolder(root='10B-3D-Uni/val', transform=transform)\n",
    "test = datasets.ImageFolder(root='10B-3D-Uni/test', transform=transform)\n",
    "\n",
    "train_loader = DataLoader(train, batch_size=16, shuffle=True)\n",
    "val_loader = DataLoader(val, batch_size=16, shuffle=True)\n",
    "test_loader = DataLoader(test, batch_size=16, shuffle=False)\n",
    "\n",
    "print(f\"Training set size: {len(train)} images\")\n",
    "print(f\"Validation set size: {len(val)} images\")\n",
    "print(f\"Testing set size: {len(test)} images\")"
   ]
  },
  {
   "cell_type": "code",
   "execution_count": 14,
   "id": "640ac4f1-8792-4b7c-84f5-c60821b164af",
   "metadata": {},
   "outputs": [
    {
     "name": "stdout",
     "output_type": "stream",
     "text": [
      "Using device: cuda\n"
     ]
    }
   ],
   "source": [
    "from torchvision.models import resnet18, ResNet18_Weights\n",
    "\n",
    "resnet18 = resnet18(weights=ResNet18_Weights.IMAGENET1K_V1)\n",
    "\n",
    "resnet18.fc = nn.Linear(resnet18.fc.in_features, 2)\n",
    "\n",
    "device = torch.device('cuda' if torch.cuda.is_available() else 'cpu')\n",
    "print(f\"Using device: {device}\")\n",
    "resnet18 = resnet18.to(device)\n",
    "\n",
    "criterion = nn.CrossEntropyLoss()\n",
    "#optimizer = optim.Adam(resnet18.parameters(), lr=0.001)\n",
    "optimizer = optim.AdamW(resnet18.parameters(), lr=0.001, weight_decay=0.01)"
   ]
  },
  {
   "cell_type": "code",
   "execution_count": 6,
   "id": "e6f07174-0870-4d21-b13e-e6f7d46fd0a3",
   "metadata": {},
   "outputs": [],
   "source": [
    "def evaluate_model(model, data_loader):\n",
    "    \"\"\"Evaluate model on the provided data loader\"\"\"\n",
    "    model.eval()\n",
    "    correct = 0\n",
    "    total = 0\n",
    "    running_loss = 0.0\n",
    "    \n",
    "    with torch.no_grad():\n",
    "        for inputs, labels in data_loader:\n",
    "            inputs, labels = inputs.to(device), labels.to(device)\n",
    "            outputs = model(inputs)\n",
    "            loss = criterion(outputs, labels)\n",
    "            running_loss += loss.item()\n",
    "            _, predicted = torch.max(outputs, 1)\n",
    "            total += labels.size(0)\n",
    "            correct += (predicted == labels).sum().item()\n",
    "    \n",
    "    accuracy = correct / total * 100\n",
    "    avg_loss = running_loss / len(data_loader)\n",
    "    return accuracy, avg_loss"
   ]
  },
  {
   "cell_type": "code",
   "execution_count": 12,
   "id": "ea5a190d-7956-44fb-8382-46d1d0bf80c4",
   "metadata": {},
   "outputs": [
    {
     "name": "stdout",
     "output_type": "stream",
     "text": [
      "Starting training...\n",
      "Epoch [1/3]\n",
      "Training Loss: 0.7920, Training Accuracy: 57.08%\n",
      "Validation Loss: 0.7296, Validation Accuracy: 53.25%\n",
      "Current LR: 0.001000\n",
      "------------------------------------------------------------\n",
      "Epoch [2/3]\n",
      "Training Loss: 0.6334, Training Accuracy: 64.58%\n",
      "Validation Loss: 0.6156, Validation Accuracy: 65.75%\n",
      "Current LR: 0.001000\n",
      "------------------------------------------------------------\n",
      "Epoch [3/3]\n",
      "Training Loss: 0.6061, Training Accuracy: 66.92%\n",
      "Validation Loss: 0.5622, Validation Accuracy: 68.25%\n",
      "Current LR: 0.001000\n",
      "------------------------------------------------------------\n",
      "Training completed.\n"
     ]
    }
   ],
   "source": [
    "import torch.optim.lr_scheduler as lr_scheduler\n",
    "\n",
    "num_epochs = 3\n",
    "best_val_loss = float('inf')\n",
    "patience = 8 \n",
    "patience_counter = 0\n",
    "temp = None\n",
    "print(\"Starting training...\")\n",
    "\n",
    "scheduler = lr_scheduler.ReduceLROnPlateau(optimizer, mode='min', factor=0.5, patience=2)\n",
    "\n",
    "for epoch in range(num_epochs):\n",
    "\n",
    "    resnet18.train()\n",
    "    running_loss = 0.0\n",
    "    correct = 0\n",
    "    total = 0\n",
    "    \n",
    "    for inputs, labels in train_loader:\n",
    "        inputs, labels = inputs.to(device), labels.to(device)\n",
    "        optimizer.zero_grad()\n",
    "        outputs = resnet18(inputs)\n",
    "        loss = criterion(outputs, labels)\n",
    "        loss.backward()\n",
    "        optimizer.step()\n",
    "        running_loss += loss.item()\n",
    "        \n",
    "\n",
    "        _, predicted = torch.max(outputs, 1)\n",
    "        total += labels.size(0)\n",
    "        correct += (predicted == labels).sum().item()\n",
    "    \n",
    "    train_accuracy = correct / total * 100 \n",
    "    train_loss = running_loss / len(train_loader)\n",
    "    \n",
    "\n",
    "    val_accuracy, val_loss = evaluate_model(resnet18, val_loader) #check overfitting\n",
    "    \n",
    "\n",
    "    if val_loss < best_val_loss:\n",
    "        best_val_loss = val_loss\n",
    "        patience_counter = 0 \n",
    "        temp = resnet18.state_dict()\n",
    "    else:\n",
    "        patience_counter += 1 \n",
    "        print(f\"patience counter {patience_counter}\")\n",
    "\n",
    "    scheduler.step(val_loss)\n",
    "    \n",
    "    print(f'Epoch [{epoch + 1}/{num_epochs}]')\n",
    "    print(f'Training Loss: {train_loss:.4f}, Training Accuracy: {train_accuracy:.2f}%')\n",
    "    print(f'Validation Loss: {val_loss:.4f}, Validation Accuracy: {val_accuracy:.2f}%')\n",
    "    print(f'Current LR: {optimizer.param_groups[0][\"lr\"]:.6f}')\n",
    "    print('-' * 60)\n",
    "\n",
    "    if patience_counter >= patience:\n",
    "        print(f\"Early stopping at epoch {epoch + 1}. Best validation loss: {best_val_loss:.4f}\")\n",
    "        break\n",
    "\n",
    "torch.save(temp, 'saved_models/10B_Depth_best_model.pth')\n",
    "print(\"Training completed.\")"
   ]
  },
  {
   "cell_type": "code",
   "execution_count": 24,
   "id": "a62e1a92-15d5-4277-a7ca-c3c020118d2a",
   "metadata": {},
   "outputs": [
    {
     "name": "stdout",
     "output_type": "stream",
     "text": [
      "\n",
      "Final Test Loss: 0.5621, Test Accuracy: 72.21%\n"
     ]
    }
   ],
   "source": [
    "from torchvision.models import resnet18, ResNet18_Weights\n",
    "\n",
    "model = resnet18(weights=None)\n",
    "model.fc = torch.nn.Linear(model.fc.in_features, 2)\n",
    "\n",
    "model.load_state_dict(torch.load('saved_models/DEPTH/10B_Depth_best_model.pth', weights_only=True))\n",
    "\n",
    "model = model.to(device)\n",
    "\n",
    "test_transform = transforms.Compose([\n",
    "    transforms.Resize((224, 224)),\n",
    "    transforms.ToTensor(),\n",
    "    transforms.Normalize(mean=[0.485, 0.456, 0.406], std=[0.229, 0.224, 0.225])\n",
    "])\n",
    "\n",
    "test = datasets.ImageFolder(root='Real_Labelled_data_d', transform=test_transform)\n",
    "\n",
    "test_loader = DataLoader(test, batch_size=16, shuffle=False)\n",
    "\n",
    "test_accuracy, test_loss = evaluate_model(model, test_loader)\n",
    "print(f'\\nFinal Test Loss: {test_loss:.4f}, Test Accuracy: {test_accuracy:.2f}%')\n"
   ]
  },
  {
   "cell_type": "code",
   "execution_count": null,
   "id": "54e32f90-a25f-4841-a131-5bac34f5ba73",
   "metadata": {},
   "outputs": [],
   "source": []
  },
  {
   "cell_type": "code",
   "execution_count": null,
   "id": "57220226-4b21-48d5-bd34-c83bacf50f2d",
   "metadata": {},
   "outputs": [],
   "source": []
  },
  {
   "cell_type": "code",
   "execution_count": null,
   "id": "af8664d9-b203-482d-bef0-a4b10edab1b6",
   "metadata": {},
   "outputs": [],
   "source": []
  }
 ],
 "metadata": {
  "kernelspec": {
   "display_name": "Python [conda env:FPY_env]",
   "language": "python",
   "name": "conda-env-FPY_env-py"
  },
  "language_info": {
   "codemirror_mode": {
    "name": "ipython",
    "version": 3
   },
   "file_extension": ".py",
   "mimetype": "text/x-python",
   "name": "python",
   "nbconvert_exporter": "python",
   "pygments_lexer": "ipython3",
   "version": "3.12.3"
  }
 },
 "nbformat": 4,
 "nbformat_minor": 5
}
