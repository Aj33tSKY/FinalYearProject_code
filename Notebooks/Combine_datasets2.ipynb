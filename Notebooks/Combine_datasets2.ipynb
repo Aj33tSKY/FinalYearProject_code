{
 "cells": [
  {
   "cell_type": "code",
   "execution_count": 2,
   "id": "0642431d-86d4-4b6f-8bd2-9bddafd8802e",
   "metadata": {},
   "outputs": [
    {
     "name": "stdout",
     "output_type": "stream",
     "text": [
      "Copying complete! Summary:\n",
      "\n",
      "Train:\n",
      "  Stable: 4800 files\n",
      "  Unstable: 4800 files\n",
      "\n",
      "Val:\n",
      "  Stable: 1600 files\n",
      "  Unstable: 1600 files\n",
      "\n",
      "Test:\n",
      "  Stable: 1600 files\n",
      "  Unstable: 1600 files\n",
      "\n",
      "Combined dataset created at: DEPTH_COMBINED DATASET2\n"
     ]
    }
   ],
   "source": [
    "import os\n",
    "import shutil\n",
    "from pathlib import Path\n",
    "\n",
    "base_path = \"SPLITS\"\n",
    "combined_path = os.path.join(os.path.dirname(base_path), \"DEPTH_COMBINED DATASET2\")\n",
    "\n",
    "for split in [\"train\", \"val\", \"test\"]:\n",
    "    for stability in [\"Stable\", \"Unstable\"]:\n",
    "        os.makedirs(os.path.join(combined_path, split, stability), exist_ok=True)\n",
    "\n",
    "main_folders = [f for f in os.listdir(base_path) \n",
    "                if os.path.isdir(os.path.join(base_path, f))]\n",
    "\n",
    "total_files = {\"train\": {\"Stable\": 0, \"Unstable\": 0},\n",
    "               \"val\": {\"Stable\": 0, \"Unstable\": 0},\n",
    "               \"test\": {\"Stable\": 0, \"Unstable\": 0}}\n",
    "\n",
    "for main_folder in main_folders:\n",
    "    for split in [\"train\", \"val\", \"test\"]:\n",
    "        split_path = os.path.join(base_path, main_folder, split)\n",
    "        \n",
    "        if not os.path.exists(split_path):\n",
    "            continue\n",
    "            \n",
    "        for stability in [\"Stable\", \"Unstable\"]:\n",
    "            source_dir = os.path.join(split_path, stability)\n",
    "            \n",
    "            if not os.path.exists(source_dir):\n",
    "                continue\n",
    "                \n",
    "            dest_dir = os.path.join(combined_path, split, stability)\n",
    "            \n",
    "            for filename in os.listdir(source_dir):\n",
    "                src_file = os.path.join(source_dir, filename)\n",
    "                \n",
    "                if os.path.isfile(src_file):\n",
    "                    \n",
    "                    new_name = f\"{main_folder}_{filename}\"\n",
    "                    dest_file = os.path.join(dest_dir, new_name)\n",
    "                    \n",
    "                    shutil.copy2(src_file, dest_file)\n",
    "                    total_files[split][stability] += 1\n",
    "\n",
    "print(\"Copying complete! Summary:\")\n",
    "for split in [\"train\", \"val\", \"test\"]:\n",
    "    print(f\"\\n{split.capitalize()}:\")\n",
    "    print(f\"  Stable: {total_files[split]['Stable']} files\")\n",
    "    print(f\"  Unstable: {total_files[split]['Unstable']} files\")\n",
    "\n",
    "print(f\"\\nCombined dataset created at: {combined_path}\")"
   ]
  },
  {
   "cell_type": "code",
   "execution_count": null,
   "id": "614e4208-949c-44a6-ba4f-ad34b7a54386",
   "metadata": {},
   "outputs": [],
   "source": []
  }
 ],
 "metadata": {
  "kernelspec": {
   "display_name": "Python [conda env:FPY_env]",
   "language": "python",
   "name": "conda-env-FPY_env-py"
  },
  "language_info": {
   "codemirror_mode": {
    "name": "ipython",
    "version": 3
   },
   "file_extension": ".py",
   "mimetype": "text/x-python",
   "name": "python",
   "nbconvert_exporter": "python",
   "pygments_lexer": "ipython3",
   "version": "3.12.3"
  }
 },
 "nbformat": 4,
 "nbformat_minor": 5
}
