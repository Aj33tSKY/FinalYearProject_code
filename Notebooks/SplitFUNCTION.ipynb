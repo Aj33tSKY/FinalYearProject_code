{
 "cells": [
  {
   "cell_type": "code",
   "execution_count": 4,
   "id": "3ca5466f-58d4-403e-b04c-91f58374303b",
   "metadata": {},
   "outputs": [
    {
     "name": "stdout",
     "output_type": "stream",
     "text": [
      "\n",
      "Stable class split statistics:\n",
      "Training: 600 images (60.0%)\n",
      "Validation: 200 images (20.0%)\n",
      "Testing: 200 images (20.0%)\n",
      "\n",
      "Unstable class split statistics:\n",
      "Training: 600 images (60.0%)\n",
      "Validation: 200 images (20.0%)\n",
      "Testing: 200 images (20.0%)\n"
     ]
    }
   ],
   "source": [
    "import os\n",
    "import shutil\n",
    "import numpy as np\n",
    "\n",
    "def split_dataset(source_dir, dest_dir, train_size=0.6, val_size=0.2, test_size=0.2, random_state=42):\n",
    "\n",
    "    np.random.seed(random_state)\n",
    "\n",
    "    splits = ['train', 'val', 'test']\n",
    "    classes = ['Stable', 'Unstable']\n",
    "    \n",
    "    for split in splits:\n",
    "        for cls in classes:\n",
    "            os.makedirs(os.path.join(dest_dir, split, cls), exist_ok=True)\n",
    "\n",
    "    for cls in classes:\n",
    "\n",
    "        cls_path = os.path.join(source_dir, cls)\n",
    "        images = [f for f in os.listdir(cls_path) if f.endswith(('.jpg', '.jpeg', '.png'))]\n",
    "\n",
    "        images = np.array(images)\n",
    "        np.random.shuffle(images)\n",
    " \n",
    "        n_images = len(images)\n",
    "        n_train = int(n_images * train_size)\n",
    "        n_val = int(n_images * val_size)\n",
    "\n",
    "        train_files = images[:n_train]\n",
    "        val_files = images[n_train:n_train + n_val]\n",
    "        test_files = images[n_train + n_val:]\n",
    "\n",
    "        for file in train_files:\n",
    "            shutil.copy2(\n",
    "                os.path.join(cls_path, file),\n",
    "                os.path.join(dest_dir, 'train', cls, file)\n",
    "            )\n",
    "            \n",
    "        for file in val_files:\n",
    "            shutil.copy2(\n",
    "                os.path.join(cls_path, file),\n",
    "                os.path.join(dest_dir, 'val', cls, file)\n",
    "            )\n",
    "            \n",
    "        for file in test_files:\n",
    "            shutil.copy2(\n",
    "                os.path.join(cls_path, file),\n",
    "                os.path.join(dest_dir, 'test', cls, file)\n",
    "            )\n",
    "\n",
    "        print(f\"\\n{cls} class split statistics:\")\n",
    "        print(f\"Training: {len(train_files)} images ({len(train_files)/n_images:.1%})\")\n",
    "        print(f\"Validation: {len(val_files)} images ({len(val_files)/n_images:.1%})\")\n",
    "        print(f\"Testing: {len(test_files)} images ({len(test_files)/n_images:.1%})\")\n",
    "\n",
    "if __name__ == \"__main__\":\n",
    "\n",
    "    source_directory = \"OG_DS/testing_friction/6B-3D-Non-Rot\"\n",
    "    destination_directory = \"OG_DS/testing_friction/6B-3D-Non-Rot_SPLIT\"\n",
    "    \n",
    "    split_dataset(source_directory, destination_directory)"
   ]
  },
  {
   "cell_type": "code",
   "execution_count": null,
   "id": "acf0a6fc-c98d-4e71-9e4a-c7856dbb48ff",
   "metadata": {},
   "outputs": [],
   "source": []
  }
 ],
 "metadata": {
  "kernelspec": {
   "display_name": "Python [conda env:FPY_env]",
   "language": "python",
   "name": "conda-env-FPY_env-py"
  },
  "language_info": {
   "codemirror_mode": {
    "name": "ipython",
    "version": 3
   },
   "file_extension": ".py",
   "mimetype": "text/x-python",
   "name": "python",
   "nbconvert_exporter": "python",
   "pygments_lexer": "ipython3",
   "version": "3.12.3"
  }
 },
 "nbformat": 4,
 "nbformat_minor": 5
}
