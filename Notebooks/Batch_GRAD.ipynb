{
 "cells": [
  {
   "cell_type": "code",
   "execution_count": 5,
   "id": "f375256c-c940-4a2f-907c-dc91818b3d96",
   "metadata": {},
   "outputs": [
    {
     "name": "stderr",
     "output_type": "stream",
     "text": [
      "C:\\Users\\ajeet\\AppData\\Local\\Temp\\ipykernel_9956\\1228117094.py:19: FutureWarning: You are using `torch.load` with `weights_only=False` (the current default value), which uses the default pickle module implicitly. It is possible to construct malicious pickle data which will execute arbitrary code during unpickling (See https://github.com/pytorch/pytorch/blob/main/SECURITY.md#untrusted-models for more details). In a future release, the default value for `weights_only` will be flipped to `True`. This limits the functions that could be executed during unpickling. Arbitrary objects will no longer be allowed to be loaded via this mode unless they are explicitly allowlisted by the user via `torch.serialization.add_safe_globals`. We recommend you start setting `weights_only=True` for any use case where you don't have full control of the loaded file. Please open an issue on GitHub for any issues related to this experimental feature.\n",
      "  efficientnet_b0.load_state_dict(torch.load('saved_models/Combined-DEPTH.pth', map_location=device))\n"
     ]
    },
    {
     "name": "stdout",
     "output_type": "stream",
     "text": [
      "Loaded pretrained weights for efficientnet-b0\n"
     ]
    },
    {
     "name": "stderr",
     "output_type": "stream",
     "text": [
      "Generating GradCAM masks: 100%|████████████████████████████████████████████████████████| 50/50 [00:02<00:00, 20.49it/s]\n"
     ]
    }
   ],
   "source": [
    "import os\n",
    "from glob import glob\n",
    "from tqdm import tqdm\n",
    "import torch\n",
    "import numpy as np\n",
    "from PIL import Image\n",
    "import cv2\n",
    "from torchvision import transforms\n",
    "from pytorch_grad_cam import GradCAMPlusPlus\n",
    "from pytorch_grad_cam.utils.image import show_cam_on_image\n",
    "from efficientnet_pytorch import EfficientNet\n",
    "\n",
    "device = torch.device(\"cuda\" if torch.cuda.is_available() else \"cpu\")\n",
    "\n",
    "efficientnet_b0 = EfficientNet.from_pretrained('efficientnet-b0')\n",
    "efficientnet_b0._fc = torch.nn.Linear(efficientnet_b0._fc.in_features, 2)\n",
    "efficientnet_b0.load_state_dict(torch.load('saved_models/Combined-DEPTH.pth', map_location=device))\n",
    "efficientnet_b0.to(device)\n",
    "efficientnet_b0.eval()\n",
    "\n",
    "target_layer = efficientnet_b0._conv_head\n",
    "cam = GradCAMPlusPlus(model=efficientnet_b0, target_layers=[target_layer])\n",
    "\n",
    "preprocess = transforms.Compose([\n",
    "    transforms.Resize((224, 224)),\n",
    "    transforms.ToTensor(),\n",
    "    transforms.Normalize(mean=[0.485, 0.456, 0.406],\n",
    "                         std=[0.229, 0.224, 0.225]),\n",
    "])\n",
    "\n",
    "input_root = 'Test_Dataset/ColourTest3/Depth_Blender/Before'\n",
    "output_root = 'GradCAM_Masks2'\n",
    "\n",
    "\n",
    "def extract_center_mask(cam, center_fraction, threshold):\n",
    "    h, w = cam.shape\n",
    "    ch, cw = int(h * center_fraction), int(w * center_fraction)\n",
    "    y1 = (h - ch) // 2\n",
    "    x1 = (w - cw) // 2\n",
    "    center_crop = cam[y1:y1+ch, x1:x1+cw]\n",
    "    mask = np.zeros_like(cam, dtype=np.uint8)\n",
    "    binary_center = (center_crop > threshold).astype(np.uint8) * 255\n",
    "    mask[y1:y1+ch, x1:x1+cw] = binary_center\n",
    "    return mask\n",
    "\n",
    "image_paths = glob(os.path.join(input_root, '**', '*.*'), recursive=True)\n",
    "\n",
    "for img_path in tqdm(image_paths, desc=\"Generating GradCAM masks\"):\n",
    "    try:\n",
    "        \n",
    "        img = Image.open(img_path).convert('RGB')\n",
    "        input_tensor = preprocess(img).unsqueeze(0).to(device)\n",
    "\n",
    "        \n",
    "        grayscale_cam = cam(input_tensor=input_tensor)[0]\n",
    "\n",
    "        \n",
    "        binary_mask = extract_center_mask(grayscale_cam, center_fraction=0.8, threshold=0.55)\n",
    "\n",
    "        rel_path = os.path.relpath(img_path, input_root)\n",
    "        out_path = os.path.join(output_root, rel_path)\n",
    "        os.makedirs(os.path.dirname(out_path), exist_ok=True)\n",
    "\n",
    "        cv2.imwrite(out_path, binary_mask)\n",
    "\n",
    "    except Exception as e:\n",
    "        print(f\"Error processing {img_path}: {e}\")\n"
   ]
  },
  {
   "cell_type": "code",
   "execution_count": null,
   "id": "26294dd7-bab4-4f6b-96c8-da7bd341d6c4",
   "metadata": {},
   "outputs": [],
   "source": []
  }
 ],
 "metadata": {
  "kernelspec": {
   "display_name": "Python [conda env:FPY_env]",
   "language": "python",
   "name": "conda-env-FPY_env-py"
  },
  "language_info": {
   "codemirror_mode": {
    "name": "ipython",
    "version": 3
   },
   "file_extension": ".py",
   "mimetype": "text/x-python",
   "name": "python",
   "nbconvert_exporter": "python",
   "pygments_lexer": "ipython3",
   "version": "3.12.3"
  }
 },
 "nbformat": 4,
 "nbformat_minor": 5
}
